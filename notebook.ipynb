{
 "cells": [
  {
   "cell_type": "code",
   "execution_count": null,
   "id": "cc756a5d",
   "metadata": {},
   "outputs": [],
   "source": [
    "import logging\n",
    "logging.basicConfig(\n",
    "    level=logging.INFO,\n",
    "    format='%(message)s'  # Simple format for cleaner output\n",
    ")\n",
    "\n",
    "# Import the async functions directly (NOT the regular crawler!)\n",
    "from src.papers_crawler.crawler_async import crawl_async, discover_journals_async\n",
    "\n",
    "# Discover available journals (use await since Colab runs in an async environment)\n",
    "journals = await discover_journals_async()\n",
    "print(f\"Found {len(journals)} journals\")\n",
    "\n",
    "# Show first 5 journals\n",
    "for slug, name in journals[:5]:\n",
    "    print(f\"  {slug}: {name}\")"
   ]
  },
  {
   "cell_type": "code",
   "execution_count": null,
   "id": "cbeec282",
   "metadata": {},
   "outputs": [],
   "source": [
    "# Crawl specific journals (use await)\n",
    "downloaded_files, articles = await crawl_async(\n",
    "    year_from=2020,\n",
    "    year_to=2025,\n",
    "    out_folder=\"./papers\",\n",
    "    headless=True,\n",
    "    limit=2,  # limit per journal\n",
    "    journal_slugs=[\"cell\", \"immunity\"],\n",
    ")\n",
    "\n",
    "print(f\"Downloaded {len(downloaded_files)} PDFs\")"
   ]
  },
  {
   "cell_type": "code",
   "execution_count": null,
   "id": "381e6316",
   "metadata": {},
   "outputs": [],
   "source": []
  }
 ],
 "metadata": {
  "kernelspec": {
   "display_name": "papers-crawling-tool-vEy1SkRO-py3.11",
   "language": "python",
   "name": "python3"
  },
  "language_info": {
   "name": "python",
   "version": "3.11.14"
  }
 },
 "nbformat": 4,
 "nbformat_minor": 5
}
