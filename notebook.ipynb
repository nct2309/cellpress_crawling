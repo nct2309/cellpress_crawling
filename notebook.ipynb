{
 "cells": [
  {
   "cell_type": "code",
   "execution_count": 1,
   "id": "cc756a5d",
   "metadata": {},
   "outputs": [
    {
     "name": "stderr",
     "output_type": "stream",
     "text": [
      "INFO:src.papers_crawler.crawler_async:Loaded 62 journals from cache\n"
     ]
    },
    {
     "name": "stdout",
     "output_type": "stream",
     "text": [
      "Found 62 journals\n",
      "  cell: Cell\n",
      "  cancer-cell: Cancer Cell\n",
      "  cell-chemical-biology: Cell Chemical Biology\n",
      "  cell-genomics: Cell Genomics\n",
      "  cell-host-microbe: Cell Host & Microbe\n"
     ]
    }
   ],
   "source": [
    "from src.papers_crawler import discover_journals_async, crawl_text_async,crawl_async\n",
    "# Discover available journals (use await since Colab runs in an async environment)\n",
    "journals = await discover_journals_async()\n",
    "print(f\"Found {len(journals)} journals\")\n",
    "\n",
    "# Show first 5 journals\n",
    "for slug, name in journals[:5]:\n",
    "    print(f\"  {slug}: {name}\")"
   ]
  },
  {
   "cell_type": "code",
   "execution_count": 3,
   "id": "cbeec282",
   "metadata": {},
   "outputs": [
    {
     "name": "stdout",
     "output_type": "stream",
     "text": [
      "🔍 Scanning 1 journal(s) for open access articles...\n",
      "\n",
      "🚀 Launching Firefox for journal: immunity...\n",
      "✅ Firefox browser ready for immunity\n",
      "📂 Journal folder: ./papers/immunity\n",
      "🔎 Crawling journal: immunity at https://www.cell.com/immunity/newarticles\n",
      "📚 Found 6 open access articles in immunity (will extract up to 6)\n",
      "Downloading PDFs:   0%|          | 0/6 [00:00<?, ?file/s]📄 Found open-access article: Spatial immune profiling defines a subset of human gliomas w...\n",
      "🔗 Navigating to full-text: https://www.cell.com/immunity/fulltext/S1074-7613(25)00429-7...\n"
     ]
    },
    {
     "name": "stderr",
     "output_type": "stream",
     "text": [
      "INFO:src.papers_crawler.crawl_text_async:📖 Navigating to full-text page: https://www.cell.com/immunity/fulltext/S1074-7613(25)00429-7\n",
      "INFO:src.papers_crawler.crawl_text_async:✅ Successfully extracted 107235 characters of text\n",
      "INFO:src.papers_crawler.crawl_text_async:💾 Saved text to: ./papers/immunity/Spatial immune profiling defines a subset of human gliomas with functional tertiary lymphoid structu.txt\n"
     ]
    },
    {
     "name": "stdout",
     "output_type": "stream",
     "text": [
      "Downloading PDFs:  17%|█▋        | 1/6 [00:06<00:30,  6.06s/file]📄 Found open-access article: Cryo-EM structure of endogenous Pfs230:Pfs48/45 complex with...\n",
      "🔗 Navigating to full-text: https://www.cell.com/immunity/fulltext/S1074-7613(25)00425-X...\n"
     ]
    },
    {
     "name": "stderr",
     "output_type": "stream",
     "text": [
      "INFO:src.papers_crawler.crawl_text_async:📖 Navigating to full-text page: https://www.cell.com/immunity/fulltext/S1074-7613(25)00425-X\n",
      "INFO:src.papers_crawler.crawl_text_async:✅ Successfully extracted 121452 characters of text\n",
      "INFO:src.papers_crawler.crawl_text_async:💾 Saved text to: ./papers/immunity/Cryo-EM structure of endogenous Pfs230Pfs4845 complex with six antibodies reveals mechanisms of mala.txt\n"
     ]
    },
    {
     "name": "stdout",
     "output_type": "stream",
     "text": [
      "Downloading PDFs:  33%|███▎      | 2/6 [00:13<00:27,  6.79s/file]📄 Found open-access article: S. aureusexposure during cutaneous antigen sensitization cau...\n",
      "🔗 Navigating to full-text: https://www.cell.com/immunity/fulltext/S1074-7613(25)00412-1...\n"
     ]
    },
    {
     "name": "stderr",
     "output_type": "stream",
     "text": [
      "INFO:src.papers_crawler.crawl_text_async:📖 Navigating to full-text page: https://www.cell.com/immunity/fulltext/S1074-7613(25)00412-1\n",
      "INFO:src.papers_crawler.crawl_text_async:✅ Successfully extracted 95256 characters of text\n",
      "INFO:src.papers_crawler.crawl_text_async:💾 Saved text to: ./papers/immunity/S aureusexposure during cutaneous antigen sensitization causes basophil- and interleukin-4-dependent.txt\n"
     ]
    },
    {
     "name": "stdout",
     "output_type": "stream",
     "text": [
      "Downloading PDFs:  50%|█████     | 3/6 [00:21<00:21,  7.20s/file]📄 Found open-access article: Integrin CD103 expression in naive CD8+T cells promotes cyto...\n",
      "🔗 Navigating to full-text: https://www.cell.com/immunity/fulltext/S1074-7613(25)00377-2...\n"
     ]
    },
    {
     "name": "stderr",
     "output_type": "stream",
     "text": [
      "INFO:src.papers_crawler.crawl_text_async:📖 Navigating to full-text page: https://www.cell.com/immunity/fulltext/S1074-7613(25)00377-2\n",
      "INFO:src.papers_crawler.crawl_text_async:✅ Successfully extracted 113066 characters of text\n",
      "INFO:src.papers_crawler.crawl_text_async:💾 Saved text to: ./papers/immunity/Integrin CD103 expression in naive CD8T cells promotes cytokine-driven acquisition of memory phenoty.txt\n"
     ]
    },
    {
     "name": "stdout",
     "output_type": "stream",
     "text": [
      "Downloading PDFs:  67%|██████▋   | 4/6 [00:28<00:14,  7.22s/file]📄 Found open-access article: A TLR4-dependent fibroblast-monocyte axis in tumor-draining ...\n",
      "🔗 Navigating to full-text: https://www.cell.com/immunity/fulltext/S1074-7613(25)00378-4...\n"
     ]
    },
    {
     "name": "stderr",
     "output_type": "stream",
     "text": [
      "INFO:src.papers_crawler.crawl_text_async:📖 Navigating to full-text page: https://www.cell.com/immunity/fulltext/S1074-7613(25)00378-4\n",
      "INFO:src.papers_crawler.crawl_text_async:✅ Successfully extracted 120117 characters of text\n",
      "INFO:src.papers_crawler.crawl_text_async:💾 Saved text to: ./papers/immunity/A TLR4-dependent fibroblast-monocyte axis in tumor-draining lymph nodes contributes to metastasis in.txt\n"
     ]
    },
    {
     "name": "stdout",
     "output_type": "stream",
     "text": [
      "Downloading PDFs:  83%|████████▎ | 5/6 [00:36<00:07,  7.32s/file]📄 Found open-access article: Transcription factor BACH2 shapes tissue-resident memory T c...\n",
      "🔗 Navigating to full-text: https://www.cell.com/immunity/fulltext/S1074-7613(25)00331-0...\n"
     ]
    },
    {
     "name": "stderr",
     "output_type": "stream",
     "text": [
      "INFO:src.papers_crawler.crawl_text_async:📖 Navigating to full-text page: https://www.cell.com/immunity/fulltext/S1074-7613(25)00331-0\n",
      "INFO:src.papers_crawler.crawl_text_async:✅ Successfully extracted 137825 characters of text\n",
      "INFO:src.papers_crawler.crawl_text_async:💾 Saved text to: ./papers/immunity/Transcription factor BACH2 shapes tissue-resident memory T cell programs to promote HIV-1 persistenc.txt\n"
     ]
    },
    {
     "name": "stdout",
     "output_type": "stream",
     "text": [
      "Downloading PDFs: 100%|██████████| 6/6 [00:43<00:00,  7.29s/file]\n",
      "📚 Crawling issue archives for journal: immunity\n",
      "🔧 Creating separate context for archive crawling...\n",
      "✅ Archive context ready\n",
      "Loading issue archive index: https://www.cell.com/immunity/issues\n",
      "📂 Parsing issue links from page HTML...\n",
      "🔍 Found 10 total issue links on page\n",
      "📚 Found 10 issues to crawl for immunity (filtered by year 2020-2025)\n",
      "✋ Reached journal limit of 6, stopping archive crawl\n",
      "🔒 Closing archive context for journal: immunity\n",
      "🔒 Closing browser for journal: immunity\n",
      "Downloading PDFs: 100%|██████████| 6/6 [00:53<00:00,  8.90s/file]"
     ]
    },
    {
     "name": "stderr",
     "output_type": "stream",
     "text": [
      "INFO:src.papers_crawler.crawl_text_async:✅ CSV summary saved to: ./papers/extraction_summary_20251025_002717.csv\n",
      "INFO:src.papers_crawler.crawl_text_async:✅ Created ZIP archive: all_journals_text_20251025_002717.zip (0.2 MB)\n",
      "INFO:src.papers_crawler.crawl_text_async:📦 Archive contains 6 text files from 1 journals\n"
     ]
    },
    {
     "name": "stdout",
     "output_type": "stream",
     "text": [
      "\n",
      "\n",
      "🎉 Extracted 6 text files to ./papers\n",
      "\n",
      "📄 Creating extraction summary CSV: extraction_summary_20251025_002717.csv\n",
      "\n",
      "📦 Creating ZIP archive with all extracted text files...\n",
      "Downloaded 6 text files\n"
     ]
    }
   ],
   "source": [
    "# Crawl specific journals (use await)\n",
    "downloaded_files, articles = await crawl_text_async(\n",
    "    year_from=2020,\n",
    "    year_to=2025,\n",
    "    out_folder=\"./papers\",\n",
    "    headless=True,\n",
    "    limit=6,  # limit per journal\n",
    "    journal_slugs=[\n",
    "        # \"cell\",\n",
    "        \"immunity\"\n",
    "        ],\n",
    "    crawl_archives=True,  # Also crawl /issue pages for more articles (including Open Archive)\n",
    ")\n",
    "\n",
    "print(f\"Downloaded {len(downloaded_files)} text files\")"
   ]
  },
  {
   "cell_type": "code",
   "execution_count": 5,
   "id": "cc33e346",
   "metadata": {},
   "outputs": [
    {
     "name": "stdout",
     "output_type": "stream",
     "text": [
      "🔍 Scanning 1 journal(s) for open access articles...\n",
      "\n",
      "� Launching Firefox for journal: immunity...\n",
      "✅ Firefox browser ready for immunity\n",
      "📂 Journal folder: ./papers/immunity\n",
      "🔎 Crawling journal: immunity at https://www.cell.com/immunity/newarticles\n"
     ]
    },
    {
     "name": "stderr",
     "output_type": "stream",
     "text": [
      "INFO:src.papers_crawler.crawler_async:Found cookie consent button: button:has-text(\"Accept\")\n",
      "INFO:src.papers_crawler.crawler_async:✓ Accepted cookie consent\n"
     ]
    },
    {
     "name": "stdout",
     "output_type": "stream",
     "text": [
      "📚 Found 6 open access articles in immunity (will download up to 6)\n",
      "Downloading PDFs:   0%|          | 0/6 [00:00<?, ?file/s]"
     ]
    },
    {
     "name": "stderr",
     "output_type": "stream",
     "text": [
      "INFO:src.papers_crawler.crawler_async:🔗 Clicking PDF link: /immunity/pdf/S1074-7613(25)00429-7.pdf...\n"
     ]
    },
    {
     "name": "stdout",
     "output_type": "stream",
     "text": [
      "📄 Found open-access article: Spatial immune profiling defines a subset of human gliomas w...\n"
     ]
    },
    {
     "name": "stderr",
     "output_type": "stream",
     "text": [
      "INFO:src.papers_crawler.crawler_async:⏳ Waiting for download to complete...\n",
      "INFO:src.papers_crawler.crawler_async:💾 Saving file to: ./papers/immunity/Spatial immune profiling defines a subset of human gliomas with functional tertiary lymphoid structu.pdf\n"
     ]
    },
    {
     "name": "stdout",
     "output_type": "stream",
     "text": [
      "Downloading PDFs:  17%|█▋        | 1/6 [00:13<01:08, 13.72s/file]"
     ]
    },
    {
     "name": "stderr",
     "output_type": "stream",
     "text": [
      "INFO:src.papers_crawler.crawler_async:Skipping non-open-access article: /immunity/pdf/S1074-7613(25)00430-3.pdf\n",
      "INFO:src.papers_crawler.crawler_async:🔗 Clicking PDF link: /immunity/pdf/S1074-7613(25)00425-X.pdf...\n"
     ]
    },
    {
     "name": "stdout",
     "output_type": "stream",
     "text": [
      "📄 Found open-access article: Cryo-EM structure of endogenous Pfs230:Pfs48/45 complex with...\n"
     ]
    },
    {
     "name": "stderr",
     "output_type": "stream",
     "text": [
      "INFO:src.papers_crawler.crawler_async:⏳ Waiting for download to complete...\n",
      "INFO:src.papers_crawler.crawler_async:💾 Saving file to: ./papers/immunity/Cryo-EM structure of endogenous Pfs230Pfs4845 complex with six antibodies reveals mechanisms of mala.pdf\n"
     ]
    },
    {
     "name": "stdout",
     "output_type": "stream",
     "text": [
      "Downloading PDFs:  33%|███▎      | 2/6 [00:26<00:52, 13.07s/file]"
     ]
    },
    {
     "name": "stderr",
     "output_type": "stream",
     "text": [
      "INFO:src.papers_crawler.crawler_async:Skipping non-open-access article: /immunity/pdf/S1074-7613(25)00418-2.pdf\n",
      "INFO:src.papers_crawler.crawler_async:Skipping non-open-access article: /immunity/pdf/S1074-7613(25)00415-7.pdf\n",
      "INFO:src.papers_crawler.crawler_async:🔗 Clicking PDF link: /immunity/pdf/S1074-7613(25)00412-1.pdf...\n"
     ]
    },
    {
     "name": "stdout",
     "output_type": "stream",
     "text": [
      "📄 Found open-access article: S. aureusexposure during cutaneous antigen sensitization cau...\n"
     ]
    },
    {
     "name": "stderr",
     "output_type": "stream",
     "text": [
      "INFO:src.papers_crawler.crawler_async:⏳ Waiting for download to complete...\n",
      "INFO:src.papers_crawler.crawler_async:💾 Saving file to: ./papers/immunity/S aureusexposure during cutaneous antigen sensitization causes basophil- and interleukin-4-dependent.pdf\n"
     ]
    },
    {
     "name": "stdout",
     "output_type": "stream",
     "text": [
      "Downloading PDFs:  50%|█████     | 3/6 [00:34<00:34, 11.58s/file]"
     ]
    },
    {
     "name": "stderr",
     "output_type": "stream",
     "text": [
      "INFO:src.papers_crawler.crawler_async:Skipping non-open-access article: /immunity/pdf/S1074-7613(25)00370-X.pdf\n",
      "INFO:src.papers_crawler.crawler_async:Skipping non-open-access article: /immunity/pdf/S1074-7613(25)00379-6.pdf\n",
      "INFO:src.papers_crawler.crawler_async:🔗 Clicking PDF link: /immunity/pdf/S1074-7613(25)00377-2.pdf...\n"
     ]
    },
    {
     "name": "stdout",
     "output_type": "stream",
     "text": [
      "📄 Found open-access article: Integrin CD103 expression in naive CD8+T cells promotes cyto...\n"
     ]
    },
    {
     "name": "stderr",
     "output_type": "stream",
     "text": [
      "INFO:src.papers_crawler.crawler_async:⏳ Waiting for download to complete...\n",
      "INFO:src.papers_crawler.crawler_async:💾 Saving file to: ./papers/immunity/Integrin CD103 expression in naive CD8T cells promotes cytokine-driven acquisition of memory phenoty.pdf\n"
     ]
    },
    {
     "name": "stdout",
     "output_type": "stream",
     "text": [
      "Downloading PDFs:  67%|██████▋   | 4/6 [00:42<00:21, 10.51s/file]"
     ]
    },
    {
     "name": "stderr",
     "output_type": "stream",
     "text": [
      "INFO:src.papers_crawler.crawler_async:🔗 Clicking PDF link: /immunity/pdf/S1074-7613(25)00378-4.pdf...\n"
     ]
    },
    {
     "name": "stdout",
     "output_type": "stream",
     "text": [
      "📄 Found open-access article: A TLR4-dependent fibroblast-monocyte axis in tumor-draining ...\n"
     ]
    },
    {
     "name": "stderr",
     "output_type": "stream",
     "text": [
      "INFO:src.papers_crawler.crawler_async:⏳ Waiting for download to complete...\n",
      "INFO:src.papers_crawler.crawler_async:💾 Saving file to: ./papers/immunity/A TLR4-dependent fibroblast-monocyte axis in tumor-draining lymph nodes contributes to metastasis in.pdf\n"
     ]
    },
    {
     "name": "stdout",
     "output_type": "stream",
     "text": [
      "Downloading PDFs:  83%|████████▎ | 5/6 [00:51<00:10, 10.39s/file]"
     ]
    },
    {
     "name": "stderr",
     "output_type": "stream",
     "text": [
      "INFO:src.papers_crawler.crawler_async:🔗 Clicking PDF link: /immunity/pdf/S1074-7613(25)00331-0.pdf...\n"
     ]
    },
    {
     "name": "stdout",
     "output_type": "stream",
     "text": [
      "📄 Found open-access article: Transcription factor BACH2 shapes tissue-resident memory T c...\n"
     ]
    },
    {
     "name": "stderr",
     "output_type": "stream",
     "text": [
      "INFO:src.papers_crawler.crawler_async:⏳ Waiting for download to complete...\n",
      "INFO:src.papers_crawler.crawler_async:💾 Saving file to: ./papers/immunity/Transcription factor BACH2 shapes tissue-resident memory T cell programs to promote HIV-1 persistenc.pdf\n"
     ]
    },
    {
     "name": "stdout",
     "output_type": "stream",
     "text": [
      "Downloading PDFs: 100%|██████████| 6/6 [01:03<00:00, 10.61s/file]\n",
      "📚 Crawling issue archives for journal: immunity\n",
      "🔧 Creating separate context for archive crawling...\n",
      "✅ Archive context ready\n",
      "Loading issue archive index: https://www.cell.com/immunity/issues\n"
     ]
    },
    {
     "name": "stderr",
     "output_type": "stream",
     "text": [
      "INFO:src.papers_crawler.crawler_async:Found cookie consent button: button:has-text(\"Accept\")\n",
      "INFO:src.papers_crawler.crawler_async:✓ Accepted cookie consent\n"
     ]
    },
    {
     "name": "stdout",
     "output_type": "stream",
     "text": [
      "📂 Parsing issue links from page HTML...\n",
      "🔍 Found 10 total issue links on page\n",
      "📚 Found 10 issues to crawl for immunity (filtered by year 2020-2025)\n",
      "📖 Loading issue: https://www.cell.com/immunity/issue?pii=S1074-7613(24)X0011-4\n",
      "📅 Issue date (from list): October 14, 2025\n",
      "Found 21 articles in issue\n",
      "📄 Found open-access article: Inflammation in atherosclerosis: Lessons and therapeutic imp...\n"
     ]
    },
    {
     "name": "stderr",
     "output_type": "stream",
     "text": [
      "INFO:src.papers_crawler.crawler_async:🔗 Clicking PDF link: /immunity/pdf/S1074-7613(25)00423-6.pdf...\n",
      "INFO:src.papers_crawler.crawler_async:⏳ Waiting for download to complete...\n",
      "INFO:src.papers_crawler.crawler_async:💾 Saving file to: ./papers/immunity/Inflammation in atherosclerosis Lessons and therapeutic implications.pdf\n"
     ]
    },
    {
     "name": "stdout",
     "output_type": "stream",
     "text": [
      "Downloading PDFs:   0%|          | 7/? [01:23<00:00, 11.95s/file]"
     ]
    },
    {
     "name": "stderr",
     "output_type": "stream",
     "text": [
      "INFO:src.papers_crawler.crawler_async:✋ Reached global limit of 7 downloads\n"
     ]
    },
    {
     "name": "stdout",
     "output_type": "stream",
     "text": [
      "🔒 Closing archive context for journal: immunity\n",
      "🔒 Closing browser for journal: immunity\n",
      "Downloading PDFs:   0%|          | 7/? [01:25<00:00, 12.19s/file]"
     ]
    },
    {
     "name": "stderr",
     "output_type": "stream",
     "text": [
      "INFO:src.papers_crawler.crawler_async:✅ CSV summary saved to: ./papers/download_summary_20251023_224202.csv\n"
     ]
    },
    {
     "name": "stdout",
     "output_type": "stream",
     "text": [
      "\n",
      "\n",
      "🎉 Downloaded 7 PDFs to ./papers\n",
      "\n",
      "📄 Creating download summary CSV: download_summary_20251023_224202.csv\n",
      "\n",
      "📦 Creating ZIP archive with all downloaded PDFs...\n"
     ]
    },
    {
     "name": "stderr",
     "output_type": "stream",
     "text": [
      "INFO:src.papers_crawler.crawler_async:✅ Created ZIP archive: all_journals_20251023_224202.zip (63.7 MB)\n",
      "INFO:src.papers_crawler.crawler_async:📦 Archive contains 7 PDFs from 1 journals\n"
     ]
    },
    {
     "name": "stdout",
     "output_type": "stream",
     "text": [
      "Downloaded 7 PDFs\n"
     ]
    }
   ],
   "source": [
    "# Crawl specific journals (use await)\n",
    "downloaded_files, articles = await crawl_async(\n",
    "    year_from=2020,\n",
    "    year_to=2025,\n",
    "    out_folder=\"./papers\",\n",
    "    headless=True,\n",
    "    limit=7,  # limit per journal\n",
    "    journal_slugs=[\n",
    "        # \"cell\",\n",
    "        \"immunity\"\n",
    "        ],\n",
    "    crawl_archives=True,  # Also crawl /issue pages for more articles (including Open Archive)\n",
    ")\n",
    "\n",
    "print(f\"Downloaded {len(downloaded_files)} PDFs\")"
   ]
  }
 ],
 "metadata": {
  "kernelspec": {
   "display_name": "papers-crawling-tool-vEy1SkRO-py3.11",
   "language": "python",
   "name": "python3"
  },
  "language_info": {
   "codemirror_mode": {
    "name": "ipython",
    "version": 3
   },
   "file_extension": ".py",
   "mimetype": "text/x-python",
   "name": "python",
   "nbconvert_exporter": "python",
   "pygments_lexer": "ipython3",
   "version": "3.11.14"
  }
 },
 "nbformat": 4,
 "nbformat_minor": 5
}
