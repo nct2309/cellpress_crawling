{
 "cells": [
  {
   "cell_type": "code",
   "execution_count": null,
   "id": "cc756a5d",
   "metadata": {},
   "outputs": [
    {
     "name": "stderr",
     "output_type": "stream",
     "text": [
      "INFO:src.papers_crawler.crawler_async:Loaded 62 journals from cache\n"
     ]
    },
    {
     "name": "stdout",
     "output_type": "stream",
     "text": [
      "Found 62 journals\n",
      "  cell: Cell\n",
      "  cancer-cell: Cancer Cell\n",
      "  cell-chemical-biology: Cell Chemical Biology\n",
      "  cell-genomics: Cell Genomics\n",
      "  cell-host-microbe: Cell Host & Microbe\n"
     ]
    }
   ],
   "source": [
    "from src.papers_crawler import discover_journals_async, crawl_text_async,crawl_async\n",
    "# Discover available journals (use await since Colab runs in an async environment)\n",
    "journals = await discover_journals_async()\n",
    "print(f\"Found {len(journals)} journals\")\n",
    "\n",
    "# Show first 5 journals\n",
    "for slug, name in journals[:5]:\n",
    "    print(f\"  {slug}: {name}\")"
   ]
  },
  {
   "cell_type": "code",
   "execution_count": null,
   "id": "cbeec282",
   "metadata": {},
   "outputs": [
    {
     "name": "stdout",
     "output_type": "stream",
     "text": [
      "🔍 Scanning 1 journal(s) for open access articles...\n",
      "\n",
      "🚀 Launching Firefox for journal: immunity...\n",
      "✅ Firefox browser ready for immunity\n",
      "📂 Journal folder: ./papers/immunity\n",
      "🔎 Crawling journal: immunity at https://www.cell.com/immunity/newarticles\n",
      "📚 Found 6 open access articles in immunity (will extract up to 6)\n",
      "Downloading PDFs:   0%|          | 0/6 [00:00<?, ?file/s]📄 Found open-access article: Spatial immune profiling defines a subset of human gliomas w...\n",
      "🔗 Navigating to full-text: https://www.cell.com/immunity/fulltext/S1074-7613(25)00429-7...\n",
      "🔍 Starting text extraction from: https://www.cell.com/immunity/fulltext/S1074-7613(25)00429-7\n"
     ]
    },
    {
     "name": "stderr",
     "output_type": "stream",
     "text": [
      "INFO:src.papers_crawler.crawl_text_async:📖 Navigating to full-text page: https://www.cell.com/immunity/fulltext/S1074-7613(25)00429-7\n",
      "INFO:src.papers_crawler.crawl_text_async:✅ Successfully extracted 72308 characters of text\n",
      "INFO:src.papers_crawler.crawl_text_async:💾 Saved text to: ./papers/immunity/Spatial immune profiling defines a subset of human gliomas with functional tertiary lymphoid structu.txt\n"
     ]
    },
    {
     "name": "stdout",
     "output_type": "stream",
     "text": [
      "Downloading PDFs:  17%|█▋        | 1/6 [00:07<00:39,  7.84s/file]📄 Found open-access article: Cryo-EM structure of endogenous Pfs230:Pfs48/45 complex with...\n",
      "🔗 Navigating to full-text: https://www.cell.com/immunity/fulltext/S1074-7613(25)00425-X...\n",
      "🔍 Starting text extraction from: https://www.cell.com/immunity/fulltext/S1074-7613(25)00425-X\n"
     ]
    },
    {
     "name": "stderr",
     "output_type": "stream",
     "text": [
      "INFO:src.papers_crawler.crawl_text_async:📖 Navigating to full-text page: https://www.cell.com/immunity/fulltext/S1074-7613(25)00425-X\n",
      "INFO:src.papers_crawler.crawl_text_async:✅ Successfully extracted 63019 characters of text\n",
      "INFO:src.papers_crawler.crawl_text_async:💾 Saved text to: ./papers/immunity/Cryo-EM structure of endogenous Pfs230Pfs4845 complex with six antibodies reveals mechanisms of mala.txt\n"
     ]
    },
    {
     "name": "stdout",
     "output_type": "stream",
     "text": [
      "Downloading PDFs:  33%|███▎      | 2/6 [00:15<00:30,  7.60s/file]📄 Found open-access article: S. aureusexposure during cutaneous antigen sensitization cau...\n",
      "🔗 Navigating to full-text: https://www.cell.com/immunity/fulltext/S1074-7613(25)00412-1...\n",
      "🔍 Starting text extraction from: https://www.cell.com/immunity/fulltext/S1074-7613(25)00412-1\n"
     ]
    },
    {
     "name": "stderr",
     "output_type": "stream",
     "text": [
      "INFO:src.papers_crawler.crawl_text_async:📖 Navigating to full-text page: https://www.cell.com/immunity/fulltext/S1074-7613(25)00412-1\n",
      "INFO:src.papers_crawler.crawl_text_async:✅ Successfully extracted 63783 characters of text\n",
      "INFO:src.papers_crawler.crawl_text_async:💾 Saved text to: ./papers/immunity/S aureusexposure during cutaneous antigen sensitization causes basophil- and interleukin-4-dependent.txt\n"
     ]
    },
    {
     "name": "stdout",
     "output_type": "stream",
     "text": [
      "Downloading PDFs:  50%|█████     | 3/6 [00:21<00:21,  7.29s/file]📄 Found open-access article: Integrin CD103 expression in naive CD8+T cells promotes cyto...\n",
      "🔗 Navigating to full-text: https://www.cell.com/immunity/fulltext/S1074-7613(25)00377-2...\n",
      "🔍 Starting text extraction from: https://www.cell.com/immunity/fulltext/S1074-7613(25)00377-2\n"
     ]
    },
    {
     "name": "stderr",
     "output_type": "stream",
     "text": [
      "INFO:src.papers_crawler.crawl_text_async:📖 Navigating to full-text page: https://www.cell.com/immunity/fulltext/S1074-7613(25)00377-2\n",
      "INFO:src.papers_crawler.crawl_text_async:✅ Successfully extracted 62395 characters of text\n",
      "INFO:src.papers_crawler.crawl_text_async:💾 Saved text to: ./papers/immunity/Integrin CD103 expression in naive CD8T cells promotes cytokine-driven acquisition of memory phenoty.txt\n"
     ]
    },
    {
     "name": "stdout",
     "output_type": "stream",
     "text": [
      "Downloading PDFs:  67%|██████▋   | 4/6 [00:29<00:14,  7.26s/file]📄 Found open-access article: A TLR4-dependent fibroblast-monocyte axis in tumor-draining ...\n",
      "🔗 Navigating to full-text: https://www.cell.com/immunity/fulltext/S1074-7613(25)00378-4...\n",
      "🔍 Starting text extraction from: https://www.cell.com/immunity/fulltext/S1074-7613(25)00378-4\n"
     ]
    },
    {
     "name": "stderr",
     "output_type": "stream",
     "text": [
      "INFO:src.papers_crawler.crawl_text_async:📖 Navigating to full-text page: https://www.cell.com/immunity/fulltext/S1074-7613(25)00378-4\n",
      "INFO:src.papers_crawler.crawl_text_async:✅ Successfully extracted 76776 characters of text\n",
      "INFO:src.papers_crawler.crawl_text_async:💾 Saved text to: ./papers/immunity/A TLR4-dependent fibroblast-monocyte axis in tumor-draining lymph nodes contributes to metastasis in.txt\n"
     ]
    },
    {
     "name": "stdout",
     "output_type": "stream",
     "text": [
      "Downloading PDFs:  83%|████████▎ | 5/6 [00:36<00:07,  7.32s/file]📄 Found open-access article: Transcription factor BACH2 shapes tissue-resident memory T c...\n",
      "🔗 Navigating to full-text: https://www.cell.com/immunity/fulltext/S1074-7613(25)00331-0...\n",
      "🔍 Starting text extraction from: https://www.cell.com/immunity/fulltext/S1074-7613(25)00331-0\n"
     ]
    },
    {
     "name": "stderr",
     "output_type": "stream",
     "text": [
      "INFO:src.papers_crawler.crawl_text_async:📖 Navigating to full-text page: https://www.cell.com/immunity/fulltext/S1074-7613(25)00331-0\n",
      "INFO:src.papers_crawler.crawl_text_async:✅ Successfully extracted 77433 characters of text\n",
      "INFO:src.papers_crawler.crawl_text_async:💾 Saved text to: ./papers/immunity/Transcription factor BACH2 shapes tissue-resident memory T cell programs to promote HIV-1 persistenc.txt\n"
     ]
    },
    {
     "name": "stdout",
     "output_type": "stream",
     "text": [
      "Downloading PDFs: 100%|██████████| 6/6 [00:43<00:00,  7.28s/file]\n",
      "📚 Crawling issue archives for journal: immunity\n",
      "🔧 Creating separate context for archive crawling...\n",
      "✅ Archive context ready\n",
      "Loading issue archive index: https://www.cell.com/immunity/issues\n",
      "📂 Parsing issue links from page HTML...\n",
      "🔍 Found 10 total issue links on page\n",
      "📚 Found 0 issues to crawl for immunity (filtered by year 2020-2025)\n",
      "🔒 Closing archive context for journal: immunity\n",
      "🔒 Closing browser for journal: immunity\n",
      "Downloading PDFs: 100%|██████████| 6/6 [00:56<00:00,  9.41s/file]"
     ]
    },
    {
     "name": "stderr",
     "output_type": "stream",
     "text": [
      "INFO:src.papers_crawler.crawl_text_async:✅ CSV summary saved to: ./papers/extraction_summary_20251023_223753.csv\n",
      "INFO:src.papers_crawler.crawl_text_async:✅ Created ZIP archive: all_journals_text_20251023_223753.zip (0.1 MB)\n",
      "INFO:src.papers_crawler.crawl_text_async:📦 Archive contains 6 text files from 1 journals\n"
     ]
    },
    {
     "name": "stdout",
     "output_type": "stream",
     "text": [
      "\n",
      "\n",
      "🎉 Extracted 6 text files to ./papers\n",
      "\n",
      "📄 Creating extraction summary CSV: extraction_summary_20251023_223753.csv\n",
      "\n",
      "📦 Creating ZIP archive with all extracted text files...\n",
      "Downloaded 6 PDFs\n"
     ]
    }
   ],
   "source": [
    "# Crawl specific journals (use await)\n",
    "downloaded_files, articles = await crawl_text_async(\n",
    "    year_from=2020,\n",
    "    year_to=2025,\n",
    "    out_folder=\"./papers\",\n",
    "    headless=True,\n",
    "    limit=7,  # limit per journal\n",
    "    journal_slugs=[\n",
    "        # \"cell\",\n",
    "        \"immunity\"\n",
    "        ],\n",
    "    crawl_archives=True,  # Also crawl /issue pages for more articles (including Open Archive)\n",
    ")\n",
    "\n",
    "print(f\"Downloaded {len(downloaded_files)} text files\")"
   ]
  },
  {
   "cell_type": "code",
   "execution_count": null,
   "id": "cc33e346",
   "metadata": {},
   "outputs": [],
   "source": [
    "# Crawl specific journals (use await)\n",
    "downloaded_files, articles = await crawl_async(\n",
    "    year_from=2020,\n",
    "    year_to=2025,\n",
    "    out_folder=\"./papers\",\n",
    "    headless=True,\n",
    "    limit=7,  # limit per journal\n",
    "    journal_slugs=[\n",
    "        # \"cell\",\n",
    "        \"immunity\"\n",
    "        ],\n",
    "    crawl_archives=True,  # Also crawl /issue pages for more articles (including Open Archive)\n",
    ")\n",
    "\n",
    "print(f\"Downloaded {len(downloaded_files)} PDFs\")"
   ]
  }
 ],
 "metadata": {
  "kernelspec": {
   "display_name": "papers-crawling-tool-vEy1SkRO-py3.11",
   "language": "python",
   "name": "python3"
  },
  "language_info": {
   "codemirror_mode": {
    "name": "ipython",
    "version": 3
   },
   "file_extension": ".py",
   "mimetype": "text/x-python",
   "name": "python",
   "nbconvert_exporter": "python",
   "pygments_lexer": "ipython3",
   "version": "3.11.14"
  }
 },
 "nbformat": 4,
 "nbformat_minor": 5
}
