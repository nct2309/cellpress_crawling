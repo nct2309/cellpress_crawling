{
 "cells": [
  {
   "cell_type": "code",
   "execution_count": null,
   "id": "cc756a5d",
   "metadata": {},
   "outputs": [
    {
     "name": "stderr",
     "output_type": "stream",
     "text": [
      "Loaded 62 journals from cache\n"
     ]
    },
    {
     "name": "stdout",
     "output_type": "stream",
     "text": [
      "Found 62 journals\n",
      "  cell: Cell\n",
      "  cancer-cell: Cancer Cell\n",
      "  cell-chemical-biology: Cell Chemical Biology\n",
      "  cell-genomics: Cell Genomics\n",
      "  cell-host-microbe: Cell Host & Microbe\n"
     ]
    }
   ],
   "source": [
    "# Import the async functions directly (NOT the regular crawler!)\n",
    "from src.papers_crawler.crawler_async import crawl_async, discover_journals_async\n",
    "\n",
    "# Discover available journals (use await since Colab runs in an async environment)\n",
    "journals = await discover_journals_async()\n",
    "print(f\"Found {len(journals)} journals\")\n",
    "\n",
    "# Show first 5 journals\n",
    "for slug, name in journals[:5]:\n",
    "    print(f\"  {slug}: {name}\")"
   ]
  },
  {
   "cell_type": "code",
   "execution_count": 2,
   "id": "cbeec282",
   "metadata": {},
   "outputs": [
    {
     "name": "stdout",
     "output_type": "stream",
     "text": [
      "🔍 Scanning 2 journal(s) for open access articles...\n",
      "\n",
      "� Launching Firefox for journal: cell...\n",
      "\n",
      "� Launching Firefox for journal: cell...\n",
      "✅ Firefox browser ready for cell\n",
      "✅ Firefox browser ready for cell\n",
      "📂 Journal folder: ./papers/cell\n",
      "🔎 Crawling journal: cell at https://www.cell.com/cell/newarticles\n",
      "📂 Journal folder: ./papers/cell\n",
      "🔎 Crawling journal: cell at https://www.cell.com/cell/newarticles\n"
     ]
    },
    {
     "name": "stderr",
     "output_type": "stream",
     "text": [
      "Found cookie consent button: button:has-text(\"Accept\")\n",
      "✓ Accepted cookie consent\n",
      "✓ Accepted cookie consent\n"
     ]
    },
    {
     "name": "stdout",
     "output_type": "stream",
     "text": [
      "📚 Found 38 open access articles in cell (will download up to 2)\n",
      "Downloading PDFs:   0%|          | 0/2 [00:00<?, ?file/s]"
     ]
    },
    {
     "name": "stderr",
     "output_type": "stream",
     "text": [
      "🔗 Clicking PDF link: /cell/pdf/S0092-8674(25)01088-8.pdf...\n"
     ]
    },
    {
     "name": "stdout",
     "output_type": "stream",
     "text": [
      "📄 Found open-access article: Anti-BCMA CAR-T therapy in patients with progressive multipl...\n"
     ]
    },
    {
     "name": "stderr",
     "output_type": "stream",
     "text": [
      "⏳ Waiting for download to complete...\n",
      "💾 Saving file to: ./papers/cell/Anti-BCMA CAR-T therapy in patients with progressive multiple sclerosis.pdf\n",
      "💾 Saving file to: ./papers/cell/Anti-BCMA CAR-T therapy in patients with progressive multiple sclerosis.pdf\n"
     ]
    },
    {
     "name": "stdout",
     "output_type": "stream",
     "text": [
      "Downloading PDFs:  50%|█████     | 1/2 [00:26<00:26, 26.16s/file]"
     ]
    },
    {
     "name": "stderr",
     "output_type": "stream",
     "text": [
      "Skipping non-open-access article: /cell/pdf/S0092-8674(25)01086-4.pdf\n",
      "🔗 Clicking PDF link: /cell/pdf/S0092-8674(25)01085-2.pdf...\n",
      "🔗 Clicking PDF link: /cell/pdf/S0092-8674(25)01085-2.pdf...\n"
     ]
    },
    {
     "name": "stdout",
     "output_type": "stream",
     "text": [
      "📄 Found open-access article: The genomic footprints of wildSaccharumspecies trace domesti...\n"
     ]
    },
    {
     "name": "stderr",
     "output_type": "stream",
     "text": [
      "⏳ Waiting for download to complete...\n",
      "💾 Saving file to: ./papers/cell/The genomic footprints of wildSaccharumspecies trace domestication diversification and modern breedi.pdf\n",
      "💾 Saving file to: ./papers/cell/The genomic footprints of wildSaccharumspecies trace domestication diversification and modern breedi.pdf\n"
     ]
    },
    {
     "name": "stdout",
     "output_type": "stream",
     "text": [
      "Downloading PDFs: 100%|██████████| 2/2 [00:37<00:00, 18.72s/file]✋ Reached limit of 2 downloads for journal cell\n",
      "🔒 Closing browser for journal: cell\n",
      "✋ Reached limit of 2 downloads for journal cell\n",
      "🔒 Closing browser for journal: cell\n",
      "\n",
      "� Launching Firefox for journal: immunity...\n",
      "\n",
      "� Launching Firefox for journal: immunity...\n",
      "✅ Firefox browser ready for immunity\n",
      "✅ Firefox browser ready for immunity\n",
      "📂 Journal folder: ./papers/immunity\n",
      "🔎 Crawling journal: immunity at https://www.cell.com/immunity/newarticles\n",
      "📂 Journal folder: ./papers/immunity\n",
      "🔎 Crawling journal: immunity at https://www.cell.com/immunity/newarticles\n"
     ]
    },
    {
     "name": "stderr",
     "output_type": "stream",
     "text": [
      "Found cookie consent button: button:has-text(\"Accept\")\n",
      "✓ Accepted cookie consent\n",
      "✓ Accepted cookie consent\n",
      "🔗 Clicking PDF link: /immunity/pdf/S1074-7613(25)00425-X.pdf...\n",
      "🔗 Clicking PDF link: /immunity/pdf/S1074-7613(25)00425-X.pdf...\n"
     ]
    },
    {
     "name": "stdout",
     "output_type": "stream",
     "text": [
      "📚 Found 5 open access articles in immunity (will download up to 2)\n",
      "📄 Found open-access article: Cryo-EM structure of endogenous Pfs230:Pfs48/45 complex with...\n"
     ]
    },
    {
     "name": "stderr",
     "output_type": "stream",
     "text": [
      "⏳ Waiting for download to complete...\n",
      "💾 Saving file to: ./papers/immunity/Cryo-EM structure of endogenous Pfs230Pfs4845 complex with six antibodies reveals mechanisms of mala.pdf\n",
      "💾 Saving file to: ./papers/immunity/Cryo-EM structure of endogenous Pfs230Pfs4845 complex with six antibodies reveals mechanisms of mala.pdf\n"
     ]
    },
    {
     "name": "stdout",
     "output_type": "stream",
     "text": [
      "Downloading PDFs:  75%|███████▌  | 3/4 [03:13<01:04, 64.34s/file]"
     ]
    },
    {
     "name": "stderr",
     "output_type": "stream",
     "text": [
      "Skipping non-open-access article: /immunity/pdf/S1074-7613(25)00418-2.pdf\n",
      "Skipping non-open-access article: /immunity/pdf/S1074-7613(25)00415-7.pdf\n",
      "🔗 Clicking PDF link: /immunity/pdf/S1074-7613(25)00412-1.pdf...\n",
      "Skipping non-open-access article: /immunity/pdf/S1074-7613(25)00415-7.pdf\n",
      "🔗 Clicking PDF link: /immunity/pdf/S1074-7613(25)00412-1.pdf...\n"
     ]
    },
    {
     "name": "stdout",
     "output_type": "stream",
     "text": [
      "📄 Found open-access article: S. aureusexposure during cutaneous antigen sensitization cau...\n"
     ]
    },
    {
     "name": "stderr",
     "output_type": "stream",
     "text": [
      "⏳ Waiting for download to complete...\n",
      "💾 Saving file to: ./papers/immunity/S aureusexposure during cutaneous antigen sensitization causes basophil- and interleukin-4-dependent.pdf\n",
      "💾 Saving file to: ./papers/immunity/S aureusexposure during cutaneous antigen sensitization causes basophil- and interleukin-4-dependent.pdf\n"
     ]
    },
    {
     "name": "stdout",
     "output_type": "stream",
     "text": [
      "Downloading PDFs: 100%|██████████| 4/4 [04:21<00:00, 65.43s/file]✋ Reached limit of 2 downloads for journal immunity\n",
      "🔒 Closing browser for journal: immunity\n",
      "✋ Reached limit of 2 downloads for journal immunity\n",
      "🔒 Closing browser for journal: immunity\n",
      "Downloading PDFs: 100%|██████████| 4/4 [04:22<00:00, 65.74s/file]\n",
      "\n",
      "🎉 Downloaded 4 PDFs to ./papers\n",
      "Downloaded 4 PDFs\n",
      "Downloading PDFs: 100%|██████████| 4/4 [04:22<00:00, 65.74s/file]\n",
      "\n",
      "🎉 Downloaded 4 PDFs to ./papers\n",
      "Downloaded 4 PDFs\n"
     ]
    }
   ],
   "source": [
    "# Crawl specific journals (use await)\n",
    "downloaded_files, articles = await crawl_async(\n",
    "    year_from=2020,\n",
    "    year_to=2025,\n",
    "    out_folder=\"./papers\",\n",
    "    headless=True,\n",
    "    limit=2,  # limit per journal\n",
    "    journal_slugs=[\"cell\", \"immunity\"],\n",
    ")\n",
    "\n",
    "print(f\"Downloaded {len(downloaded_files)} PDFs\")"
   ]
  }
 ],
 "metadata": {
  "kernelspec": {
   "display_name": "papers-crawling-tool-vEy1SkRO-py3.11",
   "language": "python",
   "name": "python3"
  },
  "language_info": {
   "codemirror_mode": {
    "name": "ipython",
    "version": 3
   },
   "file_extension": ".py",
   "mimetype": "text/x-python",
   "name": "python",
   "nbconvert_exporter": "python",
   "pygments_lexer": "ipython3",
   "version": "3.11.14"
  }
 },
 "nbformat": 4,
 "nbformat_minor": 5
}
